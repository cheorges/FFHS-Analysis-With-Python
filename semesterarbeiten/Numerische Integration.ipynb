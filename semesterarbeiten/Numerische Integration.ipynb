{
 "cells": [
  {
   "cell_type": "markdown",
   "metadata": {},
   "source": [
    "# Numerische Integration"
   ]
  },
  {
   "cell_type": "markdown",
   "metadata": {},
   "source": [
    "## Auftrag\n",
    "* Beschreiben Sie den Begriff des bestimmten Integrals.\n",
    "* Beschreiben Sie die Sehnentrapezregel, die Tangententrapezregel und die Simpsonsche Regel als Näherungsformel für die Berechnung bestimmter Integrale.\n",
    "* Erstellen Sie drei Python-Funktionen zur Approximation des Integrals $\\int_{a}^{b} f(x) dx$ dabei steht $n$ für die Anzahl Streifen (bzw. Doppelstreifen bei Simpson) in den Approximationen.\n",
    "  * `sekanten_trapez_regel(f, a, b, n)`\n",
    "  * `tangenten_trapez_regel(f, a, b, n)`\n",
    "  * `simpson_regel(f, a, b, n)`\n",
    "* Verwenden Sie die drei Approximationsregeln zur Bestimmung der folgenden Integrale (Varieren Sie dabei die Anzahl Streifen $n$):\n",
    "  * $\\int_{0}^{\\pi} sin(x) dx$\n",
    "  * $\\int_{-1}^{1} \\sqrt{1-x^2} dx$\n",
    "  * $\\int_{0}^{1} x^2 dx$\n",
    "* Stellen Sie Vermutungen auf, was beim Grenzwert $n\\to\\infty$ passiert.\n",
    "* Überprüfen Sie Ihre Vermutungen mit Sympy.\n",
    "* Vergleichen Sie die Genauigkeit der gemachten Approximationen."
   ]
  },
  {
   "cell_type": "markdown",
   "metadata": {},
   "source": [
    "## Umgebung\n",
    "Damit die Snippets funktionieren, müssen die folgenden Python-Module installiert sein."
   ]
  },
  {
   "cell_type": "markdown",
   "metadata": {},
   "source": [
    "* SymPy\n",
    "* PrettyTable\n",
    "* Matplotlib\n",
    "* NumPy"
   ]
  },
  {
   "cell_type": "code",
   "execution_count": 1,
   "metadata": {},
   "outputs": [
    {
     "name": "stdout",
     "output_type": "stream",
     "text": [
      "Requirement already satisfied: sympy in /Library/Frameworks/Python.framework/Versions/3.8/lib/python3.8/site-packages (1.5.1)\n",
      "Requirement already satisfied: mpmath>=0.19 in /Library/Frameworks/Python.framework/Versions/3.8/lib/python3.8/site-packages (from sympy) (1.1.0)\n",
      "Note: you may need to restart the kernel to use updated packages.\n"
     ]
    }
   ],
   "source": [
    "pip install sympy"
   ]
  },
  {
   "cell_type": "code",
   "execution_count": 2,
   "metadata": {},
   "outputs": [
    {
     "name": "stdout",
     "output_type": "stream",
     "text": [
      "Requirement already satisfied: PTable in /Library/Frameworks/Python.framework/Versions/3.8/lib/python3.8/site-packages (0.9.2)\n",
      "Note: you may need to restart the kernel to use updated packages.\n"
     ]
    }
   ],
   "source": [
    " pip install PTable"
   ]
  },
  {
   "cell_type": "code",
   "execution_count": 3,
   "metadata": {},
   "outputs": [
    {
     "name": "stdout",
     "output_type": "stream",
     "text": [
      "Requirement already satisfied: matplotlib in /Library/Frameworks/Python.framework/Versions/3.8/lib/python3.8/site-packages (3.1.3)\n",
      "Requirement already satisfied: numpy>=1.11 in /Library/Frameworks/Python.framework/Versions/3.8/lib/python3.8/site-packages (from matplotlib) (1.18.1)\n",
      "Requirement already satisfied: python-dateutil>=2.1 in /Library/Frameworks/Python.framework/Versions/3.8/lib/python3.8/site-packages (from matplotlib) (2.8.1)\n",
      "Requirement already satisfied: cycler>=0.10 in /Library/Frameworks/Python.framework/Versions/3.8/lib/python3.8/site-packages (from matplotlib) (0.10.0)\n",
      "Requirement already satisfied: pyparsing!=2.0.4,!=2.1.2,!=2.1.6,>=2.0.1 in /Library/Frameworks/Python.framework/Versions/3.8/lib/python3.8/site-packages (from matplotlib) (2.4.6)\n",
      "Requirement already satisfied: kiwisolver>=1.0.1 in /Library/Frameworks/Python.framework/Versions/3.8/lib/python3.8/site-packages (from matplotlib) (1.1.0)\n",
      "Requirement already satisfied: six>=1.5 in /Library/Frameworks/Python.framework/Versions/3.8/lib/python3.8/site-packages (from python-dateutil>=2.1->matplotlib) (1.13.0)\n",
      "Requirement already satisfied: setuptools in /Library/Frameworks/Python.framework/Versions/3.8/lib/python3.8/site-packages (from kiwisolver>=1.0.1->matplotlib) (41.2.0)\n",
      "Note: you may need to restart the kernel to use updated packages.\n"
     ]
    }
   ],
   "source": [
    "pip install matplotlib"
   ]
  },
  {
   "cell_type": "code",
   "execution_count": 4,
   "metadata": {},
   "outputs": [
    {
     "name": "stdout",
     "output_type": "stream",
     "text": [
      "Requirement already satisfied: numpy in /Library/Frameworks/Python.framework/Versions/3.8/lib/python3.8/site-packages (1.18.1)\n",
      "Note: you may need to restart the kernel to use updated packages.\n"
     ]
    }
   ],
   "source": [
    "pip install numpy"
   ]
  },
  {
   "cell_type": "markdown",
   "metadata": {},
   "source": [
    "### SymPy\n",
    "**SymPy** ist eine Python-Programmierbibliothek für symbolische mathematische Berechnungen *(Sympy, 2019)*."
   ]
  },
  {
   "cell_type": "markdown",
   "metadata": {},
   "source": [
    "### PrettyTable\n",
    "**PrettyTable** ist eine Python-Programmierbibliothek, die es ermöglicht einfache ASCII-Tabellen mittels Python zu generieren *(PTable, 2015)*."
   ]
  },
  {
   "cell_type": "markdown",
   "metadata": {},
   "source": [
    "### Matplotlib\n",
    "Bei **Matplotlib** handelt es sich um eine Programmbibliothek für die Programmiersprache Python. **Matplotlib** ermöglicht eine graphische Darstellung sämtlicher mathematischen Funktionen und vielem mehr. Die erstellten Graphen können mit wenig Aufwand so konfiguriert werden, dass sie für fast alle Anwendungsbereiche geeignet sind *(Matplotlib, 2019)*."
   ]
  },
  {
   "cell_type": "markdown",
   "metadata": {},
   "source": [
    "### NumPy\n",
    "Bei **NumPy** handelt es sich um eine Programmbibliothek für die Programmiersprache Python. Diese Bibliothek ermöglicht eine einfache Handhabung von grossen mehrdimensionalen Arrays. Dazu bietet NumPy effiziente Implementierungen von mathematischen Funktionen *(Numpy, 2019)*."
   ]
  },
  {
   "cell_type": "markdown",
   "metadata": {},
   "source": [
    "## Bestimmtes Integral\n",
    "Die Integralrechnung gehört zu den wichtigsten Zweigen der Analysis. Mittels einem Integral können Flächenstücke zwischen dem Funktionsgraphen und der x-Achse berechnet werden. Das Integral ist ein Oberbegriff für das unbestimmte und das bestimmte Integral.  \n",
    "Das bestimmte Integral einer Funktion ordnet dieser einer Zahl zu und wird verwendet, wenn für eine Funktion keine Stammfunktion bestimmt werden kann. Weiter kann das bestimmte Integral verwendet werden, wenn nur Messpunkte und keine Funktion vorliegt. Es gibt verschiedene numerische Methoden für die Berechung bestimmter Integrale. In dieser Arbeit wird auf die folgenden Methoden eingegangen *(Wikipedia, 2019)*:    \n",
    "\n",
    "* Trapezregel\n",
    "* Simpsonische Regel  \n",
    "\n",
    "Beim bestimmten Integral wird der Inhalt der Fläche unter einem Graphen im Intervall $a \\leq x \\leq b$ bestimmt.  \n",
    "\n",
    "![Bild 1](img/Integral.png)   \n",
    "\"[Bild 1] Darstellung des Integrals als Flächeninhalt $S$ unter dem Graphen einer Funktion $f$ im bestimmten Integrationsbereich von $a$ bis $b$ *(Wikipedia, 2019)*\"  \n",
    "\n",
    "Das unbestimmte Integral einer Funktion ordnet dieser eine Menge von Funktionen zu, deren Elemente Stammfunktionen genannt werden. Dabei besitzt ein unbestimmtes Integral im Gegensatz zum bestimmten Integral keine obere und untere Grenze. In dieser Arbeit wird nicht weiter auf das unbestimmte Integral eingegangen *(Isenhardt N, 2008/09)*."
   ]
  },
  {
   "cell_type": "markdown",
   "metadata": {},
   "source": [
    "### Funktionen\n",
    "Das folgende Snippet zeigt die in der Aufgabenstellung definierten Funktionen und die zu berechnede Fläche unterhalb der Funktion.\n",
    "  * $\\int_{0}^{\\pi} sin(x) dx$\n",
    "  * $\\int_{-1}^{1} \\sqrt{1-x^2} dx$\n",
    "  * $\\int_{0}^{1} x^2 dx$\n"
   ]
  },
  {
   "cell_type": "code",
   "execution_count": 5,
   "metadata": {},
   "outputs": [],
   "source": [
    "import numpy as np\n",
    "\n",
    "\n",
    "\"\"\"\n",
    "Zu analysierende Funktionen bestehend aus:\n",
    "* Funktion\n",
    "* Start- und Endwerte\n",
    "* Funktionslable\n",
    "\"\"\"\n",
    "\n",
    "def funktion_1(x): \n",
    "    return np.sin(x)\n",
    "\n",
    "def funktion_2(x): \n",
    "    return np.sqrt(1-x**2)\n",
    "\n",
    "def funktion_3(x): \n",
    "    return x**2\n",
    "\n",
    "funktionen = [(funktion_1, 0, np.pi, r\"$\\int_a^b f(\\sin(x))\\mathrm{d}x$\"), \n",
    "              (funktion_2, -1, 1, r\"$\\int_a^b f(\\sqrt{1-x^2})\\mathrm{d}x$\"), \n",
    "              (funktion_3, 0, 1, r\"$\\int_a^b f(x^2)\\mathrm{d}x$\"),]"
   ]
  },
  {
   "cell_type": "markdown",
   "metadata": {},
   "source": [
    "## Trapezregel\n",
    "Bei der Trapezregel wird die Fläche unter dem Gaphen im Bereich $a \\leq x \\leq b$ in $n$ gleich breite Teilintervalle aufgeteilt. Pro Intervall wird zwischen den beiden Eckpunkten $x_i$ und $x_{i+1}$ eine Gerade gezogen, damit ein Trapez ensteht. Je höher die Anzahl der Teilintervalle gewählt wird, desto genauer ist die Annäherung der Fläche.     \n",
    "Die Trapezregel kann als Sehnentrapezformel oder Tangententrapezformel angewannt werden *(Steinfeld T.)*."
   ]
  },
  {
   "cell_type": "code",
   "execution_count": 6,
   "metadata": {
    "scrolled": true
   },
   "outputs": [
    {
     "data": {
      "image/png": "[encoded data removed]",
      "text/plain": [
       "<Figure size 216x144 with 1 Axes>"
      ]
     },
     "metadata": {
      "needs_background": "light"
     },
     "output_type": "display_data"
    },
    {
     "data": {
      "image/png": "[encoded data removed]",
      "text/plain": [
       "<Figure size 216x144 with 1 Axes>"
      ]
     },
     "metadata": {
      "needs_background": "light"
     },
     "output_type": "display_data"
    },
    {
     "data": {
      "image/png": "[encoded data removed]",
      "text/plain": [
       "<Figure size 216x144 with 1 Axes>"
      ]
     },
     "metadata": {
      "needs_background": "light"
     },
     "output_type": "display_data"
    }
   ],
   "source": [
    "import matplotlib.pyplot as plt\n",
    "\n",
    "\n",
    "\n",
    "for f, a, b, title in funktionen:\n",
    "    x = np.linspace(a, b, 1000)\n",
    "    \n",
    "    fig, ax = plt.subplots()\n",
    "    fig.set_size_inches(3,2)\n",
    "    plt.title(title)\n",
    "    fig.text(0.9, 0.05, '$x$')\n",
    "    fig.text(0.1, 0.9, '$y$')\n",
    "    \n",
    "    ax.set_xticks((a, b))\n",
    "    ax.set_xticklabels(('$a$', '$b$'))\n",
    "    ax.set_yticks([])\n",
    "    ax.set_ylim(bottom=0)\n",
    "    ax.spines['right'].set_visible(False)\n",
    "    ax.spines['top'].set_visible(False)\n",
    "    \n",
    "    ax.xaxis.set_ticks_position('bottom')\n",
    "    \n",
    "    plt.fill_between(x, f(x), where = [(x > a and x < b) for x in x], color = 'grey', alpha = 0.3)\n",
    "    \n",
    "    plt.plot(x, f(x), '-r')\n",
    "    plt.show()"
   ]
  },
  {
   "cell_type": "markdown",
   "metadata": {},
   "source": [
    "### Sehnentrapezformel\n",
    "Bei der Sehnentrapezformel wird das Trapez aus der Grundlinie $[a,b]$, den senkrechten Geraden $[a, f(a)]$ und $[f(b)]$ sowie der Sehne als Verbindungsgerade zwischen $f(a)$ und $f(b)$ dargestellt. Die Sehne ersetzt an dieser Stelle die Kurve $f(x)$.  \n",
    "\n",
    "![Bild 1](img/Sehnentrapezformel.png)  \n",
    "\"[Bild 1] Sehnentrapezformel *(Steinfeld T.)*\"\n",
    "\n",
    "Ein Trapez berechnet sich somit mit folgender Formel:   \n",
    "$$Q(f)=\\frac{a-b}{2}*(f(a)+f(b))$$  \n",
    "Um das Integral noch besser annähern zu können, wird das Integrall $[a,b]$ in $n$ nebeneinanderliegende gleich grosse Teilintervalle der Länge $h$ geteilt. Für jedes einzelnes Teilintervall wendet man die Sehentrapezformel an und berechnet die Teilfläche und summiert diese Teilflächen zusammen.\n",
    "\n",
    "Daraus ergibt sich die Sehentrapezformel *(Steinfeld T.)*:  \n",
    "$$Q(f)=h*(\\frac{1}{2}*f(a)+\\frac{1}{2}*f(b)+\\sum_{i=1}^{n-1}f(a+i*h))$$  \n",
    "$$h=\\frac{b-a}{n}$$"
   ]
  },
  {
   "cell_type": "markdown",
   "metadata": {},
   "source": [
    "### Implementierung der Sehnentrapezformel\n",
    "Die Annäherung mittels der Sehnentrapezformel wurde im nachfolgenden Snippet `sekanten_trapez_regel(f, a, b, n)` umgesetzt."
   ]
  },
  {
   "cell_type": "code",
   "execution_count": 7,
   "metadata": {},
   "outputs": [],
   "source": [
    "def sekanten_trapez_regel(f, a, b, n):\n",
    "    \"\"\" Berechnet die Fläche einer Funktion zur x-Achse zwischen a und b mit Hilfe der Sehnentrapezformel.\n",
    "        @param: Funktion f: sympy-Funktion, die angenähert werden soll\n",
    "        @param: float a: Start des Intervalls\n",
    "        @param: float b: Ende des Intervalls\n",
    "        @param: int n: Aufteilung des Intervalles\n",
    "        @return: Fläche zwischen a und b unterhalb des Integrals\n",
    "    \"\"\"\n",
    "    \n",
    "    # Länge der Abschnitte berechnen\n",
    "    delta_x = (b - a) / n\n",
    "\n",
    "    # Summe aller Teilfunktionwerte berechnen\n",
    "    summe = 0\n",
    "    for i in range(1, n):\n",
    "        summe += f(a + i*delta_x)\n",
    "    \n",
    "    # Zwischenschritte zusammenrechner (Sehnentrapezformel)\n",
    "    return delta_x * (f(a)/2 + f(b)/2 + summe)"
   ]
  },
  {
   "cell_type": "markdown",
   "metadata": {},
   "source": [
    "### Tangententrapezformel\n",
    "Bei der Tangententrapezformel wird die obere Seite des Trapezes in der Mitte des Intervalles $[a,b]$ als Tangete von $f(x)$ gelegt. Die restlichen Seiten sind die Grundlinie $[a,b]$ und die senkrechte Gerande an der Stelle $a$ und $b$ bis zur Tangente.\n",
    "\n",
    "![Bild 2](img/Tangententrapezformel.png)   \n",
    "\"[Bild 2] Tangententrapezformel *(Steinfeld T.)*\"\n",
    "\n",
    "Daraus ergibt sich die Tangententrapezformel:\n",
    "$$Q(f)=(b-a)*f(\\frac{a+b}{2})$$  \n",
    "Wie bei der Sehnentrapezformel wird auch hier um eine bessere Annäherung zu erreichen das Intervall $[a,b]$ in $n$ nebeneinanderliegendne gleich grosse Teilintervalle der Länge $h$ geteilt. Die einzelnen Teilflächen werden addiert, womit es eine genauere Näherung ergibt.\n",
    "\n",
    "Daraus ergibt sich die Tagententrapezformel *(Steinfeld T.)*:\n",
    "$$Q(f)=h*\\sum_{i=1}^{n}f(a+h*\\frac{2i-1}{2})$$  \n",
    "$$h=\\frac{b-a}{n}$$"
   ]
  },
  {
   "cell_type": "markdown",
   "metadata": {},
   "source": [
    "### Implementierung der Tangententrapezformel\n",
    "Die Annäherung mittels der Tangententrapezformel wurde im nachfolgenden Snippet `tangenten_trapez_regel(f, a, b, n)` umgesetzt."
   ]
  },
  {
   "cell_type": "code",
   "execution_count": 8,
   "metadata": {},
   "outputs": [],
   "source": [
    "def tangenten_trapez_regel(f, a, b, n):\n",
    "    \"\"\" Berechnet die Fläche einer Funktion zur x-Achse zwischen a und b mit Hilfe der Tangententrapezformel.\n",
    "        @param: Funktion f: sympy-Funktion, die angenähert werden soll\n",
    "        @param: float a: Start des Intervalls\n",
    "        @param: float b: Ende des Intervalls\n",
    "        @param: int n: Aufteilung des Intervalles\n",
    "        @return: Fläche zwischen a und b unterhalb des Integrals\n",
    "    \"\"\"\n",
    "    \n",
    "    # Länge der Abschnitte berechnen\n",
    "    delta_x = (b - a) / n\n",
    "\n",
    "    # Summe aller Teilfunktionwerte berechnen\n",
    "    summe = 0\n",
    "    for i in range(1, n + 1):\n",
    "        summe += f(a + delta_x * ((2*i - 1) / 2))\n",
    "        \n",
    "    # Zwischenschritte zusammenrechner (Tagententrapezformel)\n",
    "    return delta_x*summe"
   ]
  },
  {
   "cell_type": "markdown",
   "metadata": {},
   "source": [
    "## Simpsonsche Regel\n",
    "Die Simpsonsche Regel funktioniert ähnlich wie die Trapezregel. Hier werden jedoch die Eckpunkte nicht durch eine Gerade, sondern durch eine Parabel verbunden. Somit wird in der Regel eine bessere Annäherung der Fläche gegenüber der Trapezregel erzielt.  \n",
    "\n",
    "![Bild 3](img/Simpsonscheregel.png)  \n",
    "\"[Bild 3] Simpsonsche Regel\"\n",
    "\n",
    "Ein Intervall lässt sich berechnen mit:  \n",
    "$$Q(f)=\\frac{b-a}{6}*(f(a)+4*f(\\frac{a+b}{2})+f(b))$$  \n",
    "Um die gesamte Fläche im Intervall zu erhalten, müssen die einzelnen Intervalle ebenfalls wieder als Summe berechnet werden *(Steinfeld T.)*:  \n",
    "$$Q(f)=\\frac{h}{3}*(\\frac{1}{2}*f(x_0)+\\sum_{k=1}^{n-1}f(x_k)+2*\\sum_{k=1}^{n}f(\\frac{x_{k-1}+x_k}{2})+\\frac{1}{2}*f(x_n))$$  \n",
    "$$h=\\frac{b-a}{n}, x_k=a+k*h$$"
   ]
  },
  {
   "cell_type": "markdown",
   "metadata": {},
   "source": [
    "### Implementierung der Simpsonsche Regel\n",
    "Die Annäherung mittels der Simpsonschen Regel wurde im nachfolgenden Snippet `simpson_regel(f, a, b, n)` umgesetzt."
   ]
  },
  {
   "cell_type": "code",
   "execution_count": 9,
   "metadata": {},
   "outputs": [],
   "source": [
    "def simpson_regel(f, a, b, n):\n",
    "    \"\"\" Berechnet die Fläche einer Funktion zur x-Achse zwischen a und b mit Hilfe der Simpsonsche Regel.\n",
    "        @param: Funktion f: sympy-Funktion, die angenähert werden soll\n",
    "        @param: float a: Start des Intervalls\n",
    "        @param: float b: Ende des Intervalls\n",
    "        @param: int n: Aufteilung des Intervalles\n",
    "        @return: Fläche zwischen a und b unterhalb des Integrals\n",
    "    \"\"\"\n",
    "        \n",
    "    # Länge der Abschnitte berechnen\n",
    "    delta_x = (b - a) / n\n",
    "    \n",
    "    # Summe erster Teilfunktionwerte berechnen\n",
    "    summe_1 = 0\n",
    "    for k in range(1, n):\n",
    "        summe_1 += f(a + k*delta_x)\n",
    "        \n",
    "    # Summe zweiter Teilfunktionwerte berechnen\n",
    "    summe_2 = 0\n",
    "    for k in range(1, n + 1):\n",
    "        xk = (a + k*delta_x)\n",
    "        xk_1 = (a + (k-1)*delta_x)\n",
    "        summe_2 += f((xk_1 + xk) / 2)\n",
    "    \n",
    "    # Zwischenschritte zusammenrechner (Simpsonsche Regel)\n",
    "    return (delta_x/3) * (f(a)/2 + summe_1 + 2*summe_2 + f(b)/2) "
   ]
  },
  {
   "cell_type": "markdown",
   "metadata": {},
   "source": [
    "## Approximationsregeln miteinander vergleichen\n",
    "Für den Vergleich werden die drei Funktionen der Aufgabenstellung verwendet und jeweils die Fläche des Integrals bei varierender Anzahl an Abschnitten berechnet.  "
   ]
  },
  {
   "cell_type": "markdown",
   "metadata": {},
   "source": [
    "  * `funktion_1`: $\\int_{0}^{\\pi} sin(x) dx$\n",
    "  * `funktion_2`: $\\int_{-1}^{1} \\sqrt{1-x^2} dx$\n",
    "  * `funktion_3`: $\\int_{0}^{1} x^2 dx$"
   ]
  },
  {
   "cell_type": "code",
   "execution_count": 10,
   "metadata": {},
   "outputs": [
    {
     "name": "stdout",
     "output_type": "stream",
     "text": [
      "+------------+--------------------+-----------------------+-------------------+\n",
      "| Abschnitte | Sehnentrapezformel | Tangententrapezformel | Simpsonsche Regel |\n",
      "+------------+--------------------+-----------------------+-------------------+\n",
      "|     1      |     0.00000000     |       3.14159265      |     2.09439510    |\n",
      "|     2      |     1.57079633     |       2.22144147      |     2.00455975    |\n",
      "|     4      |     1.89611890     |       2.05234431      |     2.00026917    |\n",
      "|     8      |     1.97423160     |       2.01290909      |     2.00001659    |\n",
      "|     16     |     1.99357034     |       2.00321638      |     2.00000103    |\n",
      "|     32     |     1.99839336     |       2.00080342      |     2.00000006    |\n",
      "|     64     |     1.99959839     |       2.00020081      |     2.00000000    |\n",
      "|    128     |     1.99989960     |       2.00005020      |     2.00000000    |\n",
      "|    265     |     1.99997658     |       2.00001171      |     2.00000000    |\n",
      "|    512     |     1.99999373     |       2.00000314      |     2.00000000    |\n",
      "|    1024    |     1.99999843     |       2.00000078      |     2.00000000    |\n",
      "|    2048    |     1.99999961     |       2.00000020      |     2.00000000    |\n",
      "|    4096    |     1.99999990     |       2.00000005      |     2.00000000    |\n",
      "|    8192    |     1.99999998     |       2.00000001      |     2.00000000    |\n",
      "+------------+--------------------+-----------------------+-------------------+\n",
      "+------------+--------------------+-----------------------+-------------------+\n",
      "| Abschnitte | Sehnentrapezformel | Tangententrapezformel | Simpsonsche Regel |\n",
      "+------------+--------------------+-----------------------+-------------------+\n",
      "|     1      |     0.00000000     |       2.00000000      |     1.33333333    |\n",
      "|     2      |     1.00000000     |       1.73205081      |     1.48803387    |\n",
      "|     4      |     1.36602540     |       1.62968366      |     1.54179758    |\n",
      "|     8      |     1.49785453     |       1.59196461      |     1.56059458    |\n",
      "|     16     |     1.54490957     |       1.57834347      |     1.56719883    |\n",
      "|     32     |     1.56162652     |       1.57347590      |     1.56952611    |\n",
      "|     64     |     1.56755121     |       1.57174570      |     1.57034754    |\n",
      "|    128     |     1.56964846     |       1.57113234      |     1.57063771    |\n",
      "|    265     |     1.57041090     |       1.57090919      |     1.57074309    |\n",
      "|    512     |     1.57065279     |       1.57083836      |     1.57077650    |\n",
      "|    1024    |     1.57074558     |       1.57081119      |     1.57078932    |\n",
      "|    2048    |     1.57077838     |       1.57080158      |     1.57079385    |\n",
      "|    4096    |     1.57078998     |       1.57079818      |     1.57079545    |\n",
      "|    8192    |     1.57079408     |       1.57079698      |     1.57079602    |\n",
      "+------------+--------------------+-----------------------+-------------------+\n",
      "+------------+--------------------+-----------------------+-------------------+\n",
      "| Abschnitte | Sehnentrapezformel | Tangententrapezformel | Simpsonsche Regel |\n",
      "+------------+--------------------+-----------------------+-------------------+\n",
      "|     1      |     0.50000000     |       0.25000000      |     0.33333333    |\n",
      "|     2      |     0.37500000     |       0.31250000      |     0.33333333    |\n",
      "|     4      |     0.34375000     |       0.32812500      |     0.33333333    |\n",
      "|     8      |     0.33593750     |       0.33203125      |     0.33333333    |\n",
      "|     16     |     0.33398438     |       0.33300781      |     0.33333333    |\n",
      "|     32     |     0.33349609     |       0.33325195      |     0.33333333    |\n",
      "|     64     |     0.33337402     |       0.33331299      |     0.33333333    |\n",
      "|    128     |     0.33334351     |       0.33332825      |     0.33333333    |\n",
      "|    265     |     0.33333571     |       0.33333215      |     0.33333333    |\n",
      "|    512     |     0.33333397     |       0.33333302      |     0.33333333    |\n",
      "|    1024    |     0.33333349     |       0.33333325      |     0.33333333    |\n",
      "|    2048    |     0.33333337     |       0.33333331      |     0.33333333    |\n",
      "|    4096    |     0.33333334     |       0.33333333      |     0.33333333    |\n",
      "|    8192    |     0.33333334     |       0.33333333      |     0.33333333    |\n",
      "+------------+--------------------+-----------------------+-------------------+\n"
     ]
    }
   ],
   "source": [
    "import numpy as np\n",
    "from prettytable import PrettyTable\n",
    "\n",
    "\"\"\"\n",
    "Berechnet für die definierten Funktionen die Flächen für die festgelegten Abschnitte. \n",
    "Berechnung erfolgt für jede Funktion mittels:\n",
    "* Sehnentrapezformel\n",
    "* Tangententrapezformel\n",
    "* Simpsonsche Regel\n",
    "Die Dahrstellung der Resultate erfolgt tabellarisch.\n",
    "@param: list abschnitte: Berechnung der Fläche mittels der Anzahl an Abschnitten\n",
    "\"\"\"\n",
    "\n",
    "abschnitte = [1, 2, 4, 8, 16, 32, 64, 128, 265, 512, 1024, 2048, 4096, 8192]\n",
    "\n",
    "for f, a, b, lable in funktionen:\n",
    "    sehnentrapezformel = list()\n",
    "    tangententrapezformel = list()\n",
    "    simpsonsche_regel = list()\n",
    "\n",
    "    # Tabelle initialisieren\n",
    "    tabelle = PrettyTable()\n",
    "    tabelle.field_names = [\"Abschnitte\", \"Sehnentrapezformel\", \"Tangententrapezformel\", \"Simpsonsche Regel\"]\n",
    "    \n",
    "    # Berechnung für jede Formel und Abschnitt durchführen\n",
    "    for index, value in enumerate(abschnitte):\n",
    "        sehnentrapezformel.append(sekanten_trapez_regel(f, a, b, value))\n",
    "        tangententrapezformel.append(tangenten_trapez_regel(f, a, b, value))\n",
    "        simpsonsche_regel.append(simpson_regel(f, a, b, value))\n",
    "        tabelle.add_row([value, \n",
    "                         '{:.8f}'.format(float(sehnentrapezformel[index])),\n",
    "                         '{:.8f}'.format(float(tangententrapezformel[index])),  \n",
    "                         '{:.8f}'.format(float(simpsonsche_regel[index]))])\n",
    "    \n",
    "    # Tabelle darstellen und löschen füf nächste Funktion\n",
    "    print(tabelle)\n",
    "    tabelle.clear_rows()"
   ]
  },
  {
   "cell_type": "code",
   "execution_count": 11,
   "metadata": {},
   "outputs": [
    {
     "data": {
      "image/png": "[encoded data removed]",
      "text/plain": [
       "<Figure size 360x216 with 1 Axes>"
      ]
     },
     "metadata": {
      "needs_background": "light"
     },
     "output_type": "display_data"
    },
    {
     "data": {
      "image/png": "[encoded data removed]",
      "text/plain": [
       "<Figure size 360x216 with 1 Axes>"
      ]
     },
     "metadata": {
      "needs_background": "light"
     },
     "output_type": "display_data"
    },
    {
     "data": {
      "image/png": "[encoded data removed]",
      "text/plain": [
       "<Figure size 360x216 with 1 Axes>"
      ]
     },
     "metadata": {
      "needs_background": "light"
     },
     "output_type": "display_data"
    }
   ],
   "source": [
    "import matplotlib.pyplot as plt\n",
    "\n",
    "\"\"\"\n",
    "Berechnet für die definierten Funktionen die Flächen für die festgelegten Abschnitte. \n",
    "Berechnung erfolgt für jede Funktion mittels:\n",
    "* Sehnentrapezformel\n",
    "* Tangententrapezformel\n",
    "* Simpsonsche Regel\n",
    "Die Dahrstellung der Resultate erfolgt mittels eines Scatterplots.\n",
    "@param: list abschnitte: Berechnung der Fläche mittels der Anzahl an Abschnitten\n",
    "\"\"\"\n",
    "\n",
    "abschnitte = range(1,15)\n",
    "\n",
    "for f, a, b, lable in funktionen:\n",
    "    sehnentrapezformel = list()\n",
    "    tangententrapezformel = list()\n",
    "    simpsonsche_regel = list()\n",
    "\n",
    "    # Berechnung für jede Formel und Abschnitt durchführen\n",
    "    for index, value in enumerate(abschnitte):\n",
    "        sehnentrapezformel.append(sekanten_trapez_regel(f, a, b, value))\n",
    "        tangententrapezformel.append(tangenten_trapez_regel(f, a, b, value))\n",
    "        simpsonsche_regel.append(simpson_regel(f, a, b, value))\n",
    "            \n",
    "    # Scatterplot erstellen\n",
    "    plt.figure(figsize=(5,3))\n",
    "    plt.title(lable)\n",
    "    plt.xlabel('Abschnitte')\n",
    "    plt.ylabel('Fläche')\n",
    "    plt.grid(True)\n",
    "    \n",
    "    plt.scatter(abschnitte, sehnentrapezformel, label=\"Sehnentrapezformel\")\n",
    "    plt.plot(abschnitte, sehnentrapezformel, alpha=0.5)\n",
    "    plt.scatter(abschnitte, tangententrapezformel, label=\"Tangententrapezformel\", alpha=0.5)  \n",
    "    plt.plot(abschnitte, tangententrapezformel, alpha=0.5)\n",
    "    plt.scatter(abschnitte, simpsonsche_regel, label=\"Simpsonsche Regel\", alpha=0.5) \n",
    "    plt.plot(abschnitte, simpsonsche_regel, alpha=0.5)\n",
    "    \n",
    "    plt.legend()\n",
    "    plt.show()"
   ]
  },
  {
   "cell_type": "markdown",
   "metadata": {},
   "source": [
    "Wie in den Tabellen zu sehen ist, ist jeweils die **Simpsonsche Regel** mit weniger Abschnitten gennauer als die Trapezregeln. Dies deckt sich auch mit der Aussage aus dem Paper von Isenhardt. Auffalend ist, dass die Tangententrapezformel bei wenigen Abschnitten immer besser abschneidet als die Sehenetrapeformel.\n",
    "Ebenfalls ist gut ersichtlich, dass sich bei allen drei Verfahren der Fehler minimieren lässt, indem eine höhere Anzahl an Teilintervallen $n$ gewählt wird. Das gleiche Verhalten ist in den Grafiken wiederzufinden. Schon ein Dutzend Unterteilungen reicht aus, damit alle drei Varianten sehr genaue Resultate (bis zu acht Kommastellen) ergeben. Je grösser $n$ wird, desto genauer wird das Resultat *(Isenhardt N. 2008/09)*.  "
   ]
  },
  {
   "cell_type": "markdown",
   "metadata": {},
   "source": [
    "## Grenzwerte von $n\\to\\infty$\n",
    "In den Tabellen ist zu entnehmen, dass sich die Grenzwerte für die Fläche unter dem Integral bei einer Unterteilung von $n=8192$ wie folgt entwicklet:\n",
    "\n",
    "|Funktion|Sehnentrapezformel|Tangententrapezformel|Simpsonsche Regel|**Vermuteter Grenzwert**|\n",
    "|:-:|:-:|:-:|:-:|:-:|\n",
    "|$\\int_{0}^{\\pi} sin(x) dx$|1.99999998|2.00000001|2.00000000|$2$|  \n",
    "|$\\int_{-1}^{1} \\sqrt{1-x^2} dx$|1.57079408|1.57079698|1.57079602|$1.57079$|\n",
    "|$\\int_{0}^{1} x^2 dx$|0.33333334|0.33333333|0.33333333|$0.\\overline{3333333}$|\n",
    "\n",
    "Die vermuteten Grenzwerte werden in den daraufolgenden Snippets mittels der Python-Programmierbibliotek **Sympy** verifiziert. Die Programmierbibliothek liefert eine Funktion `integrate` mit, welche für eine begrenzte mathematische Funktion den Grenzwert für $n\\to\\infty$ bestimmt."
   ]
  },
  {
   "cell_type": "code",
   "execution_count": 12,
   "metadata": {},
   "outputs": [],
   "source": [
    "import sympy as sp\n",
    "\n",
    "\n",
    "x = sp.Symbol('x')"
   ]
  },
  {
   "cell_type": "code",
   "execution_count": 13,
   "metadata": {},
   "outputs": [
    {
     "data": {
      "text/latex": [
       "$\\displaystyle 2$"
      ],
      "text/plain": [
       "2"
      ]
     },
     "execution_count": 13,
     "metadata": {},
     "output_type": "execute_result"
    }
   ],
   "source": [
    "funktion_1 = sp.sin(x)\n",
    "sp.integrate(funktion_1, (x, 0, sp.pi))"
   ]
  },
  {
   "cell_type": "code",
   "execution_count": 14,
   "metadata": {},
   "outputs": [
    {
     "data": {
      "text/latex": [
       "$\\displaystyle \\frac{\\pi}{2}$"
      ],
      "text/plain": [
       "pi/2"
      ]
     },
     "execution_count": 14,
     "metadata": {},
     "output_type": "execute_result"
    }
   ],
   "source": [
    "funktion_2 = sp.sqrt(1-x**2)\n",
    "sp.integrate(funktion_2, (x, -1, 1))"
   ]
  },
  {
   "cell_type": "code",
   "execution_count": 15,
   "metadata": {},
   "outputs": [
    {
     "data": {
      "text/latex": [
       "$\\displaystyle \\frac{1}{3}$"
      ],
      "text/plain": [
       "1/3"
      ]
     },
     "execution_count": 15,
     "metadata": {},
     "output_type": "execute_result"
    }
   ],
   "source": [
    "funktion_2 = x**2\n",
    "sp.integrate(funktion_2, (x, 0, 1))"
   ]
  },
  {
   "cell_type": "markdown",
   "metadata": {},
   "source": [
    "Die erhaltenen Resultate stimmen mit den experimentell bestimmten Resultaten von Kapitel **Approximationsregeln miteinander vergleichen** und den \"Vermuteten Grenzwerten\" aus Kapitel **Grenzwert von $n\\to \\infty$** überein.\n",
    "\n",
    "|Funktion|Vermuteter Grenzwert|Bestummener Grenzwert durch Sympy|\n",
    "|:-:|:-:|:-:|\n",
    "|$\\int_{0}^{\\pi} sin(x) dx$|$2$|$2$|  \n",
    "|$\\int_{-1}^{1} \\sqrt{1-x^2} dx$|$1.57079$|$\\frac{\\pi}{2}=1.57079$|\n",
    "|$\\int_{0}^{1} x^2 dx$|$0.\\overline{3333333}$|$0.\\overline{3333333}$|\n"
   ]
  },
  {
   "cell_type": "markdown",
   "metadata": {},
   "source": [
    "## Fazit\n",
    "Zu Beginn bei der Erarbeitung der Theorie dachte ich mir, dass die Annahäherung mit einer kleinen Unterteilung kein genaues Resultat erzielt. Jedoch hat mir dieser Auftrag das Gegenteil gezeigt. Mittels der Simpsonschen Regel konnte bei einem $n=10$ eine Genauigkeit bis in die 8 Kommastelle erreicht werden. Es war kein $n=1'000'000$ nötig für diese Genauigkeit.  \n",
    "Weiter überraschte mich wie einfach und schnell mathematische Probleme mit der Programmiersprache Python lösbar sind. Besonders gut gefällt mir, dass es viele verschiedene Libraries gibt, die für fast sämtliche Problemstellungen eine Unterstützung bieten."
   ]
  },
  {
   "cell_type": "markdown",
   "metadata": {},
   "source": [
    "## Litaraturverzeichnis\n",
    "Isenhardt N. (2008/09). *Numerische Integration*. Abgerufen am 12.04.2020 von https://www.mathi.uni-heidelberg.de/~thaeter/anasem08/Isenhardt.pdf  \n",
    "Mathepedia. Steinfeld T. *Trapezregel*. Abgerufen am 12.04.2020 von https://mathepedia.de/Trapezregel.html  \n",
    "Mathepedia. Steinfeld T. *Simpsonregel*. Abgerufen am 12.04.2020 von https://mathepedia.de/Simpsonsche_Formel.html  \n",
    "Wikipedia. (2019). *Simpsonregel*. Abgerufen am 12.04.2020 von https://de.wikipedia.org/wiki/Simpsonregel  \n",
    "Wikipedia. (2019). *Numerische Integration*. Abgerufen am 12.04.2020 von https://de.wikipedia.org/wiki/Numerische_Integration#/media/Datei:Integral_as_region\n",
    "_under_curve.svg  \n",
    "Matplotlib. (2019). *Matplotlib*. Abgerufen am 12.04.2020 von https://matplotlib.org/  \n",
    "https://pypi.org/project/PTable/   \n",
    "Sympy. (2019). *Sympy*. Abgerufen am 12.04.2020 von https://www.sympy.org/en/index.html  \n",
    "NumPy Developers. (2019). *NumPy*. Abgerufen am 12.04.2020 von https://numpy.org/  \n",
    "PTable. (2015). *PTable*. Abgerufen am 12.04.2020 von https://ptable.readthedocs.io/en/  \n",
    "latest/tutorial.html"
   ]
  }
 ],
 "metadata": {
  "kernelspec": {
   "display_name": "Python 3",
   "language": "python",
   "name": "python3"
  },
  "language_info": {
   "codemirror_mode": {
    "name": "ipython",
    "version": 3
   },
   "file_extension": ".py",
   "mimetype": "text/x-python",
   "name": "python",
   "nbconvert_exporter": "python",
   "pygments_lexer": "ipython3",
   "version": "3.7.4"
  }
 },
 "nbformat": 4,
 "nbformat_minor": 2
}
