{
 "cells": [
  {
   "cell_type": "markdown",
   "metadata": {},
   "source": [
    "Analysis mit Python - Auftrag 1  "
   ]
  },
  {
   "cell_type": "markdown",
   "metadata": {},
   "source": [
    "# Fibonacci Funktion \n",
    "Die Fibonacci-Folge ist eine unendliche Folge von Zahlen, bei der sich die jeweils folgenden Zahlen durch Addition ihrer beiden vorherigen Zahlen ergeben. Leonardo Fibonacci beschrieb mit dieser Folge im Jahre 1202 das Wachstum einer Kaninchenpopulation."
   ]
  },
  {
   "cell_type": "markdown",
   "metadata": {},
   "source": [
    "## Fibonacci-Folge\n",
    "Die Fibonacci-Folge ist wie folgt definiert: \n",
    "  \n",
    "$f_0:=0$  \n",
    "$f_1:=1$  \n",
    "$f_n:=f_{n-1}+f_{n-2}$ für $n\\ge2$  \n",
    "  \n",
    "Die ersten Fibonacci-Zahlen sind folglich $0, 1, 1, 2, 3, 5, 8, 13, 21, 34, 55, ..., n$"
   ]
  },
  {
   "cell_type": "markdown",
   "metadata": {},
   "source": [
    "## Auftrag\n",
    "* Implementieren Sie eine Python-Funktion `fib(n)`, die die n-te Fibonacci-Zahl bestimmt.\n",
    "* Eine naive Implementierung setzt die obige Rekursionsgleichung direkt um. Schreiben Sie eine weitere Python-Funktion, die berechnet, wie viele Funktionsaufrufe von `fib` notwendig sind, um die n-te Fibonacci-Zahl zu berechnen.\n",
    "* Vergleichen Sie die Anzahl der Funktionsaufrufe von `fib` zur Bestimmung einer Fibonacci-Zahl mit den Fibonacci-Zahlen selber. Können Sie eine Vermutung aufstellen?\n",
    "* Verwenden Sie die Funktion `time()` aus dem Modul time, um zu bestimmen, wie lange die Funktion `fib` benötigt, um eine Fibonacci-Zahl zu bestimmen.\n",
    "* Implementieren Sie eine weitere Python-Funktion zur Berechnung der n-ten Fibonacci-Zahl, die möglichst effizient ist."
   ]
  },
  {
   "cell_type": "markdown",
   "metadata": {},
   "source": [
    "## Umgebung\n",
    "Damit die Snippets funktionieren, muss das folgende Python-Modul installiert sein."
   ]
  },
  {
   "cell_type": "markdown",
   "metadata": {},
   "source": [
    "* matplotlib"
   ]
  },
  {
   "cell_type": "code",
   "execution_count": 1,
   "metadata": {},
   "outputs": [
    {
     "name": "stdout",
     "output_type": "stream",
     "text": [
      "Requirement already satisfied: matplotlib in /usr/local/anaconda3/lib/python3.7/site-packages (3.1.1)\n",
      "Requirement already satisfied: cycler>=0.10 in /usr/local/anaconda3/lib/python3.7/site-packages (from matplotlib) (0.10.0)\n",
      "Requirement already satisfied: kiwisolver>=1.0.1 in /usr/local/anaconda3/lib/python3.7/site-packages (from matplotlib) (1.1.0)\n",
      "Requirement already satisfied: pyparsing!=2.0.4,!=2.1.2,!=2.1.6,>=2.0.1 in /usr/local/anaconda3/lib/python3.7/site-packages (from matplotlib) (2.4.2)\n",
      "Requirement already satisfied: python-dateutil>=2.1 in /usr/local/anaconda3/lib/python3.7/site-packages (from matplotlib) (2.8.0)\n",
      "Requirement already satisfied: numpy>=1.11 in /usr/local/anaconda3/lib/python3.7/site-packages (from matplotlib) (1.17.2)\n",
      "Requirement already satisfied: six in /usr/local/anaconda3/lib/python3.7/site-packages (from cycler>=0.10->matplotlib) (1.12.0)\n",
      "Requirement already satisfied: setuptools in /usr/local/anaconda3/lib/python3.7/site-packages (from kiwisolver>=1.0.1->matplotlib) (41.4.0)\n",
      "Note: you may need to restart the kernel to use updated packages.\n"
     ]
    }
   ],
   "source": [
    "pip install matplotlib"
   ]
  },
  {
   "cell_type": "markdown",
   "metadata": {},
   "source": [
    "## Lösung\n",
    "Für die Bestimmung der n-te Fibonacci-Zahl gibt es eine iterative und eine rekursive Variante."
   ]
  },
  {
   "cell_type": "markdown",
   "metadata": {},
   "source": [
    "### Berechnung der n-ten Fibonacci-Zahl mit Rekursion\n",
    "Wird die Definition der Fibonacci-Folge naiv übernommen, resultiert daraus automatisch eine rekursive Funktion, die die n-te Fibonacci-Zahl berechnet. Zuerst werden die Ausnahmen $f_0$ und $f_1$ der Fibonacci-Folge verarbeitet. Handelt es sich jedoch bei der n-ten Zahl nicht um einen Ausnahmefall, so wird die `fib_rekursiv()`-Funktion einmal mit $n-1$ und einmal mit $n-2$ rekursiv aufgerufen und die jeweiligen Resultate werden addiert.  \n",
    "Die globale Variable `anz_aufrufe` wird benötigt um die Anzahl der Aufrufe von `fib_rekursiv` zu zählen. Sie wird jedoch für die Berechnung der n-ten Fibonacci-Zahl nicht benötigt."
   ]
  },
  {
   "cell_type": "code",
   "execution_count": 2,
   "metadata": {},
   "outputs": [
    {
     "name": "stdout",
     "output_type": "stream",
     "text": [
      "Die zehnte Fibonacci-Zahl: 55\n"
     ]
    }
   ],
   "source": [
    "def fib_rekursiv(n):\n",
    "    \"\"\"Berechnung der n-ten Fibonacci-Zahl rekursiv\"\"\"\n",
    "    \n",
    "    global anz_aufrufe\n",
    "    anz_aufrufe = anz_aufrufe + 1\n",
    "    \n",
    "    if n < 2:\n",
    "        return n\n",
    "    else:\n",
    "        return fib_rekursiv(n-1) + fib_rekursiv(n-2)\n",
    "    \n",
    "\n",
    "anz_aufrufe = 0\n",
    "print(f'Die zehnte Fibonacci-Zahl: {fib_rekursiv(10)}')"
   ]
  },
  {
   "cell_type": "markdown",
   "metadata": {},
   "source": [
    "#### Anzahl Aufrufe der fib_rekursive-Funktion  \n",
    "Das folgende Snippet berechnet die Anzahl an Funktionsaufrufen für `fib_rekursiv` mit $n = \\{0,1,2,...,30\\}$. Im darauf folgenden Snippet werden die Berechnungen mithilfe des Python-Modul matplotlib visualisiert."
   ]
  },
  {
   "cell_type": "code",
   "execution_count": 3,
   "metadata": {},
   "outputs": [
    {
     "name": "stdout",
     "output_type": "stream",
     "text": [
      "n\tFibonacci Zahl\tAnzahl Aufrufe\n",
      "0\t0\t\t1\n",
      "1\t1\t\t1\n",
      "2\t1\t\t3\n",
      "3\t2\t\t5\n",
      "4\t3\t\t9\n",
      "5\t5\t\t15\n",
      "6\t8\t\t25\n",
      "7\t13\t\t41\n",
      "8\t21\t\t67\n",
      "9\t34\t\t109\n",
      "10\t55\t\t177\n",
      "11\t89\t\t287\n",
      "12\t144\t\t465\n",
      "13\t233\t\t753\n",
      "14\t377\t\t1219\n",
      "15\t610\t\t1973\n",
      "16\t987\t\t3193\n",
      "17\t1597\t\t5167\n",
      "18\t2584\t\t8361\n",
      "19\t4181\t\t13529\n",
      "20\t6765\t\t21891\n",
      "21\t10946\t\t35421\n",
      "22\t17711\t\t57313\n",
      "23\t28657\t\t92735\n",
      "24\t46368\t\t150049\n",
      "25\t75025\t\t242785\n",
      "26\t121393\t\t392835\n",
      "27\t196418\t\t635621\n",
      "28\t317811\t\t1028457\n",
      "29\t514229\t\t1664079\n",
      "30\t832040\t\t2692537\n"
     ]
    }
   ],
   "source": [
    "x, y_anz_aufrufe, y_fib_zahl = list(), list(), list()\n",
    "\n",
    "print(f'n\\tFibonacci Zahl\\tAnzahl Aufrufe')\n",
    "\n",
    "for n in range(31):\n",
    "    \"\"\"Berechnung der Funktionsaufrufe für n = {0,1,2,...,30}\"\"\"\n",
    "    \n",
    "    anz_aufrufe = 0\n",
    "    zahl = fib_rekursiv(n)\n",
    "    x.append(n)\n",
    "    y_anz_aufrufe.append(anz_aufrufe)\n",
    "    y_fib_zahl.append(zahl) \n",
    "    \n",
    "    print(f'{n}\\t{zahl}\\t\\t{anz_aufrufe}')"
   ]
  },
  {
   "cell_type": "code",
   "execution_count": 5,
   "metadata": {},
   "outputs": [
    {
     "data": {
      "image/png": "[encoded data removed]",
      "text/plain": [
       "<Figure size 432x288 with 1 Axes>"
      ]
     },
     "metadata": {
      "needs_background": "light"
     },
     "output_type": "display_data"
    }
   ],
   "source": [
    "import matplotlib as mlp\n",
    "import matplotlib.pyplot as plt\n",
    "import matplotlib.patches as mpatches\n",
    "\n",
    "\n",
    "plt.title('Vergleich f(n) zu Anzahl Aufrufe von f(n)')\n",
    "plt.ylabel('Anzahl Aufrufe')\n",
    "plt.xlabel('n')\n",
    "plt.axis(xmin = 0, xmax = 30)\n",
    "plt.grid(True)\n",
    "\n",
    "plt.plot(x, y_anz_aufrufe, color = 'red')\n",
    "plt.plot(x, y_fib_zahl, color = 'blue')\n",
    "red_desc = mpatches.Patch(color='red', label='Anzahl Aufrufe')\n",
    "blue_desc = mpatches.Patch(color='blue', label='Fibonacci-Zahl')\n",
    "plt.legend(handles=[red_desc, blue_desc])\n",
    "\n",
    "plt.show()"
   ]
  },
  {
   "cell_type": "markdown",
   "metadata": {},
   "source": [
    "Beim Vergleich der Anzahl Funktionsaufrufe mit der entsprechen Fibonacci-Zahl zeigt sich an der Grafik, dass die Anzahl Funktionsaufrufe schon früh sehr stark von der jeweiligen Fibonacci-Zahl unterscheidet. Die Anzahl steigt stärker an als die Fibonacci-Zahl selbst. Anhand der Grafik erklärt sich auch, warum die rekursive Berechnung einer grossen Fibonacci-Zahl sehr rechenintensiv ist. Grund dafür sind die vielen rekursive Funktionsaufrufe, die für die Berechnung benötigt werden. Bei einer zu grossen Zahl terminiert das Programm nicht mehr in absehbarerer Zeit. Daher liegt die Annahme nahe, dass die Laufzeit exponentiell ist. Wie im Code ersichtlich ist, werden lediglich die Zahlen null und eins zurückgegeben und zusammengezählt (Ausnahmefälle). Dies bedeutet, dass am Schluss die Laufzeit des Programms sicher mindestens die Anzahl der Einsen sein wird, die zusammengezählt werden. Das ist genau der Wert der n-te Fibonacci-Zahl selbst. Das Zeitverhalten der rekursiven Funktion ist $𝑂(2^𝑛)$ somit exponentiell."
   ]
  },
  {
   "cell_type": "markdown",
   "metadata": {},
   "source": [
    "### Berechnung der n-ten Fibonacci-Zahl mit Iteration\n",
    "Bei der iterativen Variante werden zwei temporäre Variablen benötigt, die die Werte von $f_{n-1}$ (`prev_1`) und  $f_{n-2}$ (`prev_2`) halten. Als Startwert der Variablen werden die Anfangswerte von $f_0$ (`prev_1`) und $f_1$ (`prev_2`) gesetzt. Bei jeder Iteration übernimmt `prev_1` den Wert von `prev_2` und `prev_2` wird neu die Summe aus `prev_1` und `prev_2`. Dieser Schritt wird $n$-mal wiederholt."
   ]
  },
  {
   "cell_type": "code",
   "execution_count": 6,
   "metadata": {},
   "outputs": [
    {
     "name": "stdout",
     "output_type": "stream",
     "text": [
      "Die zehnte Fibonacci-Zahl: 55\n"
     ]
    }
   ],
   "source": [
    "def fib_iterativ(n):\n",
    "    \"\"\"Berechnung der n-ten Fibonacci-Zahl iterativ\"\"\"\n",
    "    \n",
    "    prev_1, prev_2 = 0, 1\n",
    "    for i in range(n):\n",
    "        prev_1, prev_2 = prev_2, (prev_1 + prev_2)\n",
    "    return prev_1\n",
    "\n",
    "\n",
    "print(f'Die zehnte Fibonacci-Zahl: {fib_iterativ(10)}')"
   ]
  },
  {
   "cell_type": "markdown",
   "metadata": {},
   "source": [
    "Die iterative Variante hat bezüglich der O-Notation ein viel besseren Wert als die rekursive. Das Zeitverhalten der iterativen Funktion ist $O(n)$, da sich die Funktion **nicht** wie bei der rekursiven immer wieder zwei Mal pro Funktionsaufruf aufruft."
   ]
  },
  {
   "cell_type": "markdown",
   "metadata": {},
   "source": [
    "### Zeitmessung und Vergleich der iterativen und rekursiven Varianten\n",
    "Im folgenden Snippet wird mithilfe der Funtkon `time()` die Dauer für die Berechnung einer Fibonacci-Zahl ausgewertet. Dazu wird jeweils der Start-Zeitpunkt und End-Zeitpunkt gemessen. Dazwischen wird jeweils die Fibonacci-Zahl berechnet. Die Differenz des End-Zeitpunkt und Start-Zeitpunkt ergibt die Dauer der Berechnung. Dies wird für die ersten 30 Fibonacci-Zahlen durchgeführt."
   ]
  },
  {
   "cell_type": "code",
   "execution_count": 7,
   "metadata": {},
   "outputs": [
    {
     "name": "stdout",
     "output_type": "stream",
     "text": [
      "\n",
      "Zeitmessung: Berechnung der n-ten Fibonacci-Zahl mit Rekursion\n",
      "\n",
      "n\tFibonacci Zahl\tDauer (sec.)\n",
      "0\t0\t\t2.1457672119140625e-06\n",
      "1\t1\t\t9.5367431640625e-07\n",
      "2\t1\t\t2.1457672119140625e-06\n",
      "3\t2\t\t1.9073486328125e-06\n",
      "4\t3\t\t2.6226043701171875e-06\n",
      "5\t5\t\t3.814697265625e-06\n",
      "6\t8\t\t7.867813110351562e-06\n",
      "7\t13\t\t8.106231689453125e-06\n",
      "8\t21\t\t1.3113021850585938e-05\n",
      "9\t34\t\t3.2901763916015625e-05\n",
      "10\t55\t\t3.695487976074219e-05\n",
      "11\t89\t\t5.817413330078125e-05\n",
      "12\t144\t\t8.702278137207031e-05\n",
      "13\t233\t\t0.00014519691467285156\n",
      "14\t377\t\t0.00023603439331054688\n",
      "15\t610\t\t0.00036025047302246094\n",
      "16\t987\t\t0.0005791187286376953\n",
      "17\t1597\t\t0.0009851455688476562\n",
      "18\t2584\t\t0.0015158653259277344\n",
      "19\t4181\t\t0.002515077590942383\n",
      "20\t6765\t\t0.004220724105834961\n",
      "21\t10946\t\t0.0071680545806884766\n",
      "22\t17711\t\t0.011200904846191406\n",
      "23\t28657\t\t0.018841028213500977\n",
      "24\t46368\t\t0.029417991638183594\n",
      "25\t75025\t\t0.050581932067871094\n",
      "26\t121393\t\t0.07021212577819824\n",
      "27\t196418\t\t0.09734010696411133\n",
      "28\t317811\t\t0.18091917037963867\n",
      "29\t514229\t\t0.2643098831176758\n",
      "30\t832040\t\t0.49898195266723633\n",
      "\n",
      "Zeitmessung: Berechnung der n-ten Fibonacci-Zahl mit Iteration\n",
      "\n",
      "n\tFibonacci Zahl\tDauer (sec.)\n",
      "0\t0\t\t1.9073486328125e-06\n",
      "1\t1\t\t2.1457672119140625e-06\n",
      "2\t1\t\t9.5367431640625e-07\n",
      "3\t2\t\t1.1920928955078125e-06\n",
      "4\t3\t\t7.152557373046875e-07\n",
      "5\t5\t\t1.1920928955078125e-06\n",
      "6\t8\t\t9.5367431640625e-07\n",
      "7\t13\t\t9.5367431640625e-07\n",
      "8\t21\t\t9.5367431640625e-07\n",
      "9\t34\t\t1.9073486328125e-06\n",
      "10\t55\t\t1.1920928955078125e-06\n",
      "11\t89\t\t7.152557373046875e-07\n",
      "12\t144\t\t1.1920928955078125e-06\n",
      "13\t233\t\t3.0994415283203125e-06\n",
      "14\t377\t\t1.9073486328125e-06\n",
      "15\t610\t\t6.9141387939453125e-06\n",
      "16\t987\t\t2.1457672119140625e-06\n",
      "17\t1597\t\t1.9073486328125e-06\n",
      "18\t2584\t\t1.6689300537109375e-06\n",
      "19\t4181\t\t1.3113021850585938e-05\n",
      "20\t6765\t\t2.86102294921875e-06\n",
      "21\t10946\t\t4.0531158447265625e-06\n",
      "22\t17711\t\t3.0994415283203125e-06\n",
      "23\t28657\t\t4.0531158447265625e-06\n",
      "24\t46368\t\t1.9073486328125e-06\n",
      "25\t75025\t\t1.9073486328125e-06\n",
      "26\t121393\t\t1.9073486328125e-06\n",
      "27\t196418\t\t2.86102294921875e-06\n",
      "28\t317811\t\t2.1457672119140625e-06\n",
      "29\t514229\t\t3.814697265625e-06\n",
      "30\t832040\t\t2.1457672119140625e-06\n"
     ]
    }
   ],
   "source": [
    "import time\n",
    "\n",
    "\n",
    "print(\"\\nZeitmessung: Berechnung der n-ten Fibonacci-Zahl mit Rekursion\\n\")\n",
    "print (f'n\\tFibonacci Zahl\\tDauer (sec.)')\n",
    "for n in range(31):\n",
    "    start = time.time()\n",
    "    zahl = fib_rekursiv(n)\n",
    "    ende = time.time()\n",
    "    print (f'{n}\\t{zahl}\\t\\t{ende - start}')\n",
    "    \n",
    "\n",
    "print(\"\\nZeitmessung: Berechnung der n-ten Fibonacci-Zahl mit Iteration\\n\")\n",
    "print (f'n\\tFibonacci Zahl\\tDauer (sec.)')\n",
    "for n in range(31):\n",
    "    start = time.time()\n",
    "    zahl = fib_iterativ(n)\n",
    "    ende = time.time()\n",
    "    print (f'{n}\\t{zahl}\\t\\t{ende - start}')"
   ]
  },
  {
   "cell_type": "markdown",
   "metadata": {},
   "source": [
    "#### Beobachtungen  \n",
    "Bei der iterativen Variante ist die benötigte Zeit für die 30te Fibonacci-Zahl auf dem Testsystem kaum messbar, da diese zu klein ist. Auch die Berechnung der 2000 Fibonacci-Zahl (0.0002071857452392578 sec) war iterativ möglich. Bei der rekursiven Variante konnte das Testsystem die Zahl jedoch nicht mehr in absehbarer Zeit rechnen, da schon die Berechnung der 30ten Fibonacci-Zahl auf dem Testsystem ca. eine halbe Sekunde benötigte."
   ]
  },
  {
   "cell_type": "markdown",
   "metadata": {},
   "source": [
    "### Effiziente rekursive Variante\n",
    "Mittels einer dynamischen Programmierung kann bei der rekursiven Variante an Rechenleistung gespart werden. Die dynamische Programmierung ist eine Methode zum algorithmischen Lösen eines Optimierungsproblems durch Aufteilung in Teilprobleme und systematische Speicherung von Zwischenresultaten. Dieser Ansatz kann gut auf die rekursive Variante angewendet werden. Ein rekursiver Aufruf wird somit nur noch gestartet, wenn dieser nicht schon einmal ausgerechnet wurde. Als Startwert des Zwischenspeichers werden die Anfangswerte von $f_0$ und $f_1$ initialisiert. "
   ]
  },
  {
   "cell_type": "code",
   "execution_count": 8,
   "metadata": {},
   "outputs": [
    {
     "name": "stdout",
     "output_type": "stream",
     "text": [
      "Die zehnte Fibonacci-Zahl: 55\n"
     ]
    }
   ],
   "source": [
    "memory = {0:0, 1:1}\n",
    "def fib_dynamisch(n):\n",
    "    \"\"\"Berechnung der n-ten Fibonacci-Zahl mittels einem dynamischen Programmieransatzt\"\"\"\n",
    "    \n",
    "    if not n in memory:\n",
    "        memory[n] = fib_dynamisch(n-1) + fib_dynamisch(n-2)\n",
    "    return memory[n]\n",
    "    \n",
    "\n",
    "print(f'Die zehnte Fibonacci-Zahl: {fib_dynamisch(10)}')"
   ]
  },
  {
   "cell_type": "markdown",
   "metadata": {},
   "source": [
    "Durch diese Anpassung ist die Dauer der Berechnung der 30ten Fibonacci-Zahl kaum messbar. Deshalb wurde die Zeitmessung ein weiteresmal durchgeführt. Dies jedoch für die Fibonacci-Zahlen $n=\\{1'000,2'000,...10'000\\}$. Da die Fibonacci-Zahlen einen enormgrossen Wert annehmen, werden diese nicht mehr ausgegeben."
   ]
  },
  {
   "cell_type": "code",
   "execution_count": 9,
   "metadata": {},
   "outputs": [
    {
     "name": "stdout",
     "output_type": "stream",
     "text": [
      "\n",
      "Zeitmessung: Berechnung der n-ten Fibonacci-Zahl mit dynamischer Programmierung\n",
      "\n",
      "n\tDauer (sec.)\n",
      "1000\t0.001322031021118164\n",
      "2000\t0.0006680488586425781\n",
      "3000\t0.0007860660552978516\n",
      "4000\t0.0007710456848144531\n",
      "5000\t0.000766754150390625\n",
      "6000\t0.0012276172637939453\n",
      "7000\t0.001081228256225586\n",
      "8000\t0.0014698505401611328\n",
      "9000\t0.001226186752319336\n",
      "10000\t0.0013461112976074219\n",
      "11000\t0.002151012420654297\n",
      "12000\t0.0020079612731933594\n",
      "13000\t0.0017752647399902344\n",
      "14000\t0.001790761947631836\n",
      "15000\t0.0018639564514160156\n",
      "16000\t0.0018219947814941406\n",
      "17000\t0.0020699501037597656\n",
      "18000\t0.0021209716796875\n",
      "19000\t0.0022530555725097656\n",
      "20000\t0.0021619796752929688\n",
      "21000\t0.002315998077392578\n",
      "22000\t0.00304412841796875\n",
      "23000\t0.0025060176849365234\n",
      "24000\t0.002357006072998047\n",
      "25000\t0.0026199817657470703\n",
      "26000\t0.002444744110107422\n",
      "27000\t0.00337982177734375\n",
      "28000\t0.00362396240234375\n",
      "29000\t0.0029320716857910156\n",
      "30000\t0.0029578208923339844\n",
      "\n",
      "Zeitmessung: Berechnung der n-ten Fibonacci-Zahl mit Iteration\n",
      "\n",
      "n\tDauer (sec.)\n",
      "1000\t8.702278137207031e-05\n",
      "2000\t0.00019788742065429688\n",
      "3000\t0.00032901763916015625\n",
      "4000\t0.0005092620849609375\n",
      "5000\t0.0006959438323974609\n",
      "6000\t0.0012919902801513672\n",
      "7000\t0.0015430450439453125\n",
      "8000\t0.0019598007202148438\n",
      "9000\t0.0022530555725097656\n",
      "10000\t0.0028519630432128906\n",
      "11000\t0.0032100677490234375\n",
      "12000\t0.0037157535552978516\n",
      "13000\t0.004068851470947266\n",
      "14000\t0.006080150604248047\n",
      "15000\t0.005567073822021484\n",
      "16000\t0.006396055221557617\n",
      "17000\t0.006268978118896484\n",
      "18000\t0.00711512565612793\n",
      "19000\t0.007467985153198242\n",
      "20000\t0.008535146713256836\n",
      "21000\t0.008554935455322266\n",
      "22000\t0.010576009750366211\n",
      "23000\t0.010310888290405273\n",
      "24000\t0.011788129806518555\n",
      "25000\t0.012460947036743164\n",
      "26000\t0.01335000991821289\n",
      "27000\t0.013280630111694336\n",
      "28000\t0.01494598388671875\n",
      "29000\t0.01615595817565918\n",
      "30000\t0.018361806869506836\n"
     ]
    }
   ],
   "source": [
    "print(\"\\nZeitmessung: Berechnung der n-ten Fibonacci-Zahl mit dynamischer Programmierung\\n\")\n",
    "print (f'n\\tDauer (sec.)')\n",
    "for n in range(1_000, 31_000, 1_000):\n",
    "    start = time.time()\n",
    "    zahl = fib_dynamisch(n)\n",
    "    ende = time.time()\n",
    "    print (f'{n}\\t{ende - start}')\n",
    "    \n",
    "\n",
    "print(\"\\nZeitmessung: Berechnung der n-ten Fibonacci-Zahl mit Iteration\\n\")\n",
    "print (f'n\\tDauer (sec.)')\n",
    "for n in range(1_000, 31_000, 1_000):\n",
    "    start = time.time()\n",
    "    zahl = fib_iterativ(n)\n",
    "    ende = time.time()\n",
    "    print (f'{n}\\t{ende - start}')"
   ]
  },
  {
   "cell_type": "markdown",
   "metadata": {},
   "source": [
    "Die neue rekursive Funktion ist dank dem Zwischenspeicher schneller und somit effizienter als die iterative Variante. Jedoch muss beachtet werden, dass sich im Zwischenspeicher mit der Zeit sehr grosse und viele Datensätze befinden. Diese können Ressourcen eines Systems besetzen. Zudem würde diese Variante nur Zeit sparen, wenn mehrere Fibonacci-Zahlen ausgerechnet werden sollen."
   ]
  },
  {
   "cell_type": "markdown",
   "metadata": {},
   "source": [
    "## Fazit\n",
    "Es war ein interessantes Thema die Fibonacci-Zahlen mit der Programmiersprache Python zu verknüpfen. Die Resultate waren spannend und herausfordernd. Ich konnte viel über die Programmiersprache Python lernen. Mittels diesem Thema konnte sehr einfach aufgezeigt werden wie schnell rekursive Funktionen an ihre Grenzen stossen können. Wobei diese eigentlich für ein Problem oftmals eine einfache und elegante Lösung bieten würden."
   ]
  }
 ],
 "metadata": {
  "kernelspec": {
   "display_name": "Python 3",
   "language": "python",
   "name": "python3"
  },
  "language_info": {
   "codemirror_mode": {
    "name": "ipython",
    "version": 3
   },
   "file_extension": ".py",
   "mimetype": "text/x-python",
   "name": "python",
   "nbconvert_exporter": "python",
   "pygments_lexer": "ipython3",
   "version": "3.8.0"
  }
 },
 "nbformat": 4,
 "nbformat_minor": 2
}
